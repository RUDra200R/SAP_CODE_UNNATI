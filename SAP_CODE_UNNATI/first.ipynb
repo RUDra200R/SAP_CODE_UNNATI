{
 "cells": [
  {
   "cell_type": "code",
   "execution_count": 2,
   "id": "9f4567cf",
   "metadata": {},
   "outputs": [
    {
     "name": "stdout",
     "output_type": "stream",
     "text": [
      "Python 3.11.4\n"
     ]
    }
   ],
   "source": [
    "!python --version\n"
   ]
  },
  {
   "cell_type": "code",
   "execution_count": 4,
   "id": "7e6778c7",
   "metadata": {},
   "outputs": [
    {
     "data": {
      "text/plain": [
       "'3.11.4'"
      ]
     },
     "execution_count": 4,
     "metadata": {},
     "output_type": "execute_result"
    }
   ],
   "source": [
    "from platform import python_version\n",
    "python_version()"
   ]
  },
  {
   "cell_type": "markdown",
   "id": "a5a010a1",
   "metadata": {},
   "source": [
    "# Comments in python\n"
   ]
  },
  {
   "cell_type": "code",
   "execution_count": 11,
   "id": "1362d6aa",
   "metadata": {},
   "outputs": [
    {
     "name": "stdout",
     "output_type": "stream",
     "text": [
      "10\n",
      "12\n"
     ]
    }
   ],
   "source": [
    "a=12\n",
    "def hello():\n",
    "    a=10             # here a is local variable\n",
    "    print(a)\n",
    "    return\n",
    "hello()\n",
    "print(a)            # here a is global variable"
   ]
  },
  {
   "cell_type": "code",
   "execution_count": 16,
   "id": "3db2fa1d",
   "metadata": {},
   "outputs": [
    {
     "name": "stdout",
     "output_type": "stream",
     "text": [
      "10\n",
      "10\n"
     ]
    }
   ],
   "source": [
    "# CHANGING THE GLOBAL VARIABLE VALUE WITH THE HELP OF LOCAL VARIABLE\n",
    "a=12\n",
    "def hello():\n",
    "    global a\n",
    "    a=10            # here a is local variable\n",
    "    print(a)\n",
    "    return\n",
    "hello()\n",
    "print(a)            # here a is global variable"
   ]
  },
  {
   "cell_type": "code",
   "execution_count": 17,
   "id": "906f647e",
   "metadata": {},
   "outputs": [
    {
     "name": "stdout",
     "output_type": "stream",
     "text": [
      "10\n",
      "<class 'int'>\n"
     ]
    }
   ],
   "source": [
    "a =10\n",
    "print(a)\n",
    "print(type(a))"
   ]
  },
  {
   "cell_type": "code",
   "execution_count": 18,
   "id": "6f3bac02",
   "metadata": {},
   "outputs": [
    {
     "data": {
      "text/plain": [
       "140720485602376"
      ]
     },
     "execution_count": 18,
     "metadata": {},
     "output_type": "execute_result"
    }
   ],
   "source": [
    "# id is used for mapping of the object, memory is assigned to the value instead of variable\n",
    "x =10\n",
    "id(x)\n"
   ]
  },
  {
   "cell_type": "code",
   "execution_count": 19,
   "id": "460c7a51",
   "metadata": {},
   "outputs": [
    {
     "data": {
      "text/plain": [
       "140720485602376"
      ]
     },
     "execution_count": 19,
     "metadata": {},
     "output_type": "execute_result"
    }
   ],
   "source": [
    "y=10\n",
    "id(y)"
   ]
  },
  {
   "cell_type": "code",
   "execution_count": 20,
   "id": "8e443370",
   "metadata": {},
   "outputs": [
    {
     "data": {
      "text/plain": [
       "140720485602440"
      ]
     },
     "execution_count": 20,
     "metadata": {},
     "output_type": "execute_result"
    }
   ],
   "source": [
    "x =12\n",
    "id(x)"
   ]
  },
  {
   "cell_type": "code",
   "execution_count": 22,
   "id": "e91767ac",
   "metadata": {},
   "outputs": [
    {
     "data": {
      "text/plain": [
       "'python programming Language'"
      ]
     },
     "execution_count": 22,
     "metadata": {},
     "output_type": "execute_result"
    }
   ],
   "source": [
    "string = \"{} {} {}\".format('python', 'programming', 'Language')\n",
    "string"
   ]
  },
  {
   "cell_type": "code",
   "execution_count": 24,
   "id": "63c1a426",
   "metadata": {},
   "outputs": [
    {
     "name": "stdout",
     "output_type": "stream",
     "text": [
      "Hello vishwajeet ,I am Romil\n"
     ]
    }
   ],
   "source": [
    "name= 'Romil'\n",
    "print(f\"Hello vishwajeet ,I am {name}\")"
   ]
  },
  {
   "cell_type": "code",
   "execution_count": 25,
   "id": "c93f30c0",
   "metadata": {},
   "outputs": [
    {
     "data": {
      "text/plain": [
       "'o'"
      ]
     },
     "execution_count": 25,
     "metadata": {},
     "output_type": "execute_result"
    }
   ],
   "source": [
    "name='Romil'\n",
    "name[-4]"
   ]
  },
  {
   "cell_type": "code",
   "execution_count": 27,
   "id": "6bc5082b",
   "metadata": {},
   "outputs": [
    {
     "data": {
      "text/plain": [
       "''"
      ]
     },
     "execution_count": 27,
     "metadata": {},
     "output_type": "execute_result"
    }
   ],
   "source": [
    "#[start:index:step-1/gap]\n",
    "name[3:1]"
   ]
  },
  {
   "cell_type": "code",
   "execution_count": 28,
   "id": "d8d31646",
   "metadata": {},
   "outputs": [
    {
     "data": {
      "text/plain": [
       "'im'"
      ]
     },
     "execution_count": 28,
     "metadata": {},
     "output_type": "execute_result"
    }
   ],
   "source": [
    "name[3:1:-1]"
   ]
  },
  {
   "cell_type": "markdown",
   "id": "c5a6b8ab",
   "metadata": {},
   "source": [
    "# Keys are always immutable "
   ]
  },
  {
   "cell_type": "code",
   "execution_count": 1,
   "id": "ee60ccce",
   "metadata": {},
   "outputs": [
    {
     "name": "stdout",
     "output_type": "stream",
     "text": [
      "<class 'set'>\n"
     ]
    }
   ],
   "source": [
    "x = set()\n",
    "print(type(x))"
   ]
  },
  {
   "cell_type": "markdown",
   "id": "9a0a4372",
   "metadata": {},
   "source": [
    "# For help(docstring) Shift+tab"
   ]
  },
  {
   "cell_type": "code",
   "execution_count": null,
   "id": "ac9be66b",
   "metadata": {},
   "outputs": [],
   "source": []
  }
 ],
 "metadata": {
  "kernelspec": {
   "display_name": "Python 3 (ipykernel)",
   "language": "python",
   "name": "python3"
  },
  "language_info": {
   "codemirror_mode": {
    "name": "ipython",
    "version": 3
   },
   "file_extension": ".py",
   "mimetype": "text/x-python",
   "name": "python",
   "nbconvert_exporter": "python",
   "pygments_lexer": "ipython3",
   "version": "3.11.4"
  }
 },
 "nbformat": 4,
 "nbformat_minor": 5
}
